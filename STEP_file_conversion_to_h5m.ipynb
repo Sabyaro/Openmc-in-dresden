{
 "cells": [
  {
   "cell_type": "code",
   "execution_count": 1,
   "id": "1d460230-685c-4d39-806c-67f791fd61dd",
   "metadata": {},
   "outputs": [],
   "source": [
    "  import CAD_to_OpenMC.assembly as ab"
   ]
  },
  {
   "cell_type": "code",
   "execution_count": 3,
   "id": "6e020b22-a379-4e53-8172-0c8135354d8d",
   "metadata": {},
   "outputs": [
    {
     "name": "stdout",
     "output_type": "stream",
     "text": [
      "INFO: 7pin.step imported - scaling\n",
      "Info    :  - Label 'Shapes/fuel' (3D)\n",
      "Info    :  - Color (0.615686, 0.811765, 0.929412) (3D & Surfaces)\n",
      "Info    :  - Label 'Shapes/fuel' (3D)\n",
      "Info    :  - Color (0.647059, 0.647059, 0.647059) (3D & Surfaces)\n",
      "Info    :  - Label 'Shapes/fuel' (3D)\n",
      "Info    :  - Color (0.231373, 0.380392, 0.705882) (3D & Surfaces)\n",
      "Info    :  - Label 'Shapes/fuel' (3D)\n",
      "Info    :  - Color (0.917647, 0.917647, 0.917647) (3D & Surfaces)\n",
      "Info    :  - Label 'Shapes/fuel' (3D)\n",
      "Info    :  - Color (0.768627, 0.886275, 0.952941) (3D & Surfaces)\n",
      "Info    :  - Label 'Shapes/fuel' (3D)\n",
      "Info    :  - Color (0.972549, 0.529412, 0.00392157) (3D & Surfaces)\n",
      "Info    :  - Label 'Shapes/fuel' (3D)\n",
      "Info    :  - Color (0.498039, 0.498039, 0.498039) (3D & Surfaces)\n",
      "Info    :  - Label 'Shapes/graphite' (3D)\n",
      "Info    :  - Color (0.980392, 0.713725, 0.00392157) (3D & Surfaces)\n",
      "Info    :  - Label 'Shapes/graphite' (3D)\n",
      "Info    :  - Color (0.615686, 0.811765, 0.929412) (3D & Surfaces)\n",
      "Info    :  - Label 'Shapes/graphite' (3D)\n",
      "Info    :  - Color (0.647059, 0.647059, 0.647059) (3D & Surfaces)\n",
      "Info    :  - Label 'Shapes/graphite' (3D)\n",
      "Info    :  - Color (0.231373, 0.380392, 0.705882) (3D & Surfaces)\n",
      "Info    :  - Label 'Shapes/graphite' (3D)\n",
      "Info    :  - Color (0.917647, 0.917647, 0.917647) (3D & Surfaces)\n",
      "Info    :  - Label 'Shapes/graphite' (3D)\n",
      "Info    :  - Color (0.768627, 0.886275, 0.952941) (3D & Surfaces)\n",
      "Info    :  - Label 'Shapes/graphite' (3D)\n",
      "Info    :  - Color (0.972549, 0.529412, 0.00392157) (3D & Surfaces)\n",
      "INFO: GMSH generate surface mesh\n",
      "SUMMARY: solid_id material_tag     stl-file        \n",
      "SUMMARY:        1 fuel             volume_1.stl    \n",
      "SUMMARY:        2 fuel             volume_2.stl    \n",
      "SUMMARY:        3 fuel             volume_3.stl    \n",
      "SUMMARY:        4 fuel             volume_4.stl    \n",
      "SUMMARY:        5 fuel             volume_5.stl    \n",
      "SUMMARY:        6 fuel             volume_6.stl    \n",
      "SUMMARY:        7 fuel             volume_7.stl    \n",
      "SUMMARY:        8 graphite         volume_8.stl    \n",
      "SUMMARY:        9 graphite         volume_9.stl    \n",
      "SUMMARY:       10 graphite         volume_10.stl   \n",
      "SUMMARY:       11 graphite         volume_11.stl   \n",
      "SUMMARY:       12 graphite         volume_12.stl   \n",
      "SUMMARY:       13 graphite         volume_13.stl   \n",
      "SUMMARY:       14 graphite         volume_14.stl   \n",
      "INFO: checking surfaces and reparing normals\n",
      "INFO: reassembling stl-files into h5m structure\n",
      "INFO: writing geometry to h5m: \"dagmc.h5m\".\n"
     ]
    }
   ],
   "source": [
    "a=ab.Assembly()\n",
    "a.stp_files=[\"7pin.step\"]\n",
    "a.import_stp_files()\n",
    "a.solids_to_h5m()"
   ]
  },
  {
   "cell_type": "code",
   "execution_count": 45,
   "id": "6ed1447c-9027-457b-b11f-a4d0f5324485",
   "metadata": {},
   "outputs": [
    {
     "name": "stderr",
     "output_type": "stream",
     "text": [
      "/home/dresden/NuclearBoy/nuclear-boy/lib/python3.10/site-packages/openmc/mixin.py:70: IDWarning: Another Material instance already exists with id=40.\n",
      "  warn(msg, IDWarning)\n",
      "/home/dresden/NuclearBoy/nuclear-boy/lib/python3.10/site-packages/openmc/mixin.py:70: IDWarning: Another Material instance already exists with id=41.\n",
      "  warn(msg, IDWarning)\n",
      "/home/dresden/NuclearBoy/nuclear-boy/lib/python3.10/site-packages/openmc/mixin.py:70: IDWarning: Another Material instance already exists with id=42.\n",
      "  warn(msg, IDWarning)\n"
     ]
    },
    {
     "data": {
      "image/png": "[encoded data removed]",
      "text/plain": [
       "<IPython.core.display.Image object>"
      ]
     },
     "metadata": {},
     "output_type": "display_data"
    }
   ],
   "source": [
    "import openmc\n",
    "\n",
    "\n",
    "from IPython.display import Image\n",
    "from matplotlib import pyplot as plt\n",
    " # materials\n",
    "u235 = openmc.Material(name=\"fuel\")\n",
    "u235.add_nuclide('U235', 1.0, 'ao')\n",
    "u235.set_density('g/cc', 11)\n",
    "u235.id = 40\n",
    "\n",
    "water = openmc.Material(name=\"water\")\n",
    "water.add_nuclide('H1', 2.0, 'ao')\n",
    "water.add_nuclide('O16', 1.0, 'ao')\n",
    "water.set_density('g/cc', 1.0)\n",
    "water.add_s_alpha_beta('c_H_in_H2O')\n",
    "water.id = 41\n",
    "\n",
    "graphite = openmc.Material(name=\"graphite\")\n",
    "graphite.add_nuclide('C12',1.0,'ao')\n",
    "graphite.set_density('g/cc',2.26)\n",
    "graphite.id = 42\n",
    "\n",
    "\n",
    "\n",
    "materials = openmc.Materials([u235, water, graphite])\n",
    "# makes use of the dagmc geometry\n",
    "dag_univ = openmc.DAGMCUniverse(\"dagmc.h5m\")\n",
    "\n",
    "# creates an edge of universe boundary at a large radius\n",
    "vac_surf = openmc.Sphere(r=10000, surface_id=9999, boundary_type=\"vacuum\")\n",
    "\n",
    "# specifies the region as below the universe boundary\n",
    "region = -vac_surf\n",
    "\n",
    "# creates a cell from the region and fills the cell with the dagmc geometry\n",
    "containing_cell = openmc.Cell(cell_id=9999, region=region, fill=dag_univ)\n",
    "\n",
    "model = openmc.Model()\n",
    "model.geometry = openmc.Geometry(root=[containing_cell])\n",
    "\n",
    "settings = openmc.Settings()\n",
    "settings.batches = 100\n",
    "settings.inactive = 2\n",
    "settings.particles = 100000\n",
    "\n",
    "model = openmc.Model(geometry=geometry, materials=materials, settings=settings)\n",
    "model.export_to_model_xml()\n",
    "\n",
    "p = openmc.Plot()\n",
    "p.width = (25.0, 25.0)\n",
    "p.pixels = (400, 400)\n",
    "p.color_by = 'material'\n",
    "p.colors = {u235: 'yellow', water: 'blue', graphite: 'black'}\n",
    "openmc.plot_inline(p)"
   ]
  },
  {
   "cell_type": "code",
   "execution_count": null,
   "id": "819ef296-e22c-48b4-99a2-04e5b9d664fe",
   "metadata": {},
   "outputs": [],
   "source": []
  }
 ],
 "metadata": {
  "kernelspec": {
   "display_name": "Python 3 (ipykernel)",
   "language": "python",
   "name": "python3"
  },
  "language_info": {
   "codemirror_mode": {
    "name": "ipython",
    "version": 3
   },
   "file_extension": ".py",
   "mimetype": "text/x-python",
   "name": "python",
   "nbconvert_exporter": "python",
   "pygments_lexer": "ipython3",
   "version": "3.10.12"
  }
 },
 "nbformat": 4,
 "nbformat_minor": 5
}
